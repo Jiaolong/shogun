{
 "metadata": {
  "name": ""
 },
 "nbformat": 3,
 "nbformat_minor": 0,
 "worksheets": [
  {
   "cells": [
    {
     "cell_type": "heading",
     "level": 1,
     "metadata": {},
     "source": [
      "Simple CRF for binary denoising"
     ]
    },
    {
     "cell_type": "markdown",
     "metadata": {},
     "source": [
      "Jiaolong Xu (GitHub ID: [Jiaolong](https://github.com/Jiaolong))"
     ]
    },
    {
     "cell_type": "code",
     "collapsed": false,
     "input": [
      "import numpy as np\n",
      "from modshogun import Factor, TableFactorType, FactorGraph\n",
      "from modshogun import FactorGraphObservation, FactorGraphLabels, FactorGraphFeatures\n",
      "from modshogun import FactorGraphModel, GRAPH_CUT\n",
      "from modshogun import MAPInference, GraphCut"
     ],
     "language": "python",
     "metadata": {},
     "outputs": [],
     "prompt_number": 23
    },
    {
     "cell_type": "code",
     "collapsed": false,
     "input": [
      "def make_grid_edges(grid_w, grid_h, neighborhood=4):\n",
      "    \"\"\" Create grid edge lists.\n",
      "    \n",
      "        Args:\n",
      "            grid_w: width of the grid\n",
      "            grid_h: height of the grid\n",
      "            neigborhood: neigborhood of the node (4 or 8)\n",
      "        \n",
      "        Returns:\n",
      "            edge list of the grid graph\n",
      "    \"\"\"\n",
      "    if neighborhood not in [4, 8]:\n",
      "        raise ValueError(\"neighborhood can only be '4' or '8', got %s\" % repr(neighborhood))\n",
      "    inds = np.arange(grid_w * grid_h).reshape([grid_w, grid_h])\n",
      "    inds = inds.astype(np.int64)\n",
      "    right = np.c_[inds[:, :-1].ravel(), inds[:, 1:].ravel()]\n",
      "    down = np.c_[inds[:-1, :].ravel(), inds[1:, :].ravel()]\n",
      "    edges = [right, down]\n",
      "    if neighborhood == 8:\n",
      "        upright = np.c_[inds[1:, :-1].ravel(), inds[:-1, 1:].ravel()]\n",
      "        downright = np.c_[inds[:-1, :-1].ravel(), inds[1:, 1:].ravel()]\n",
      "        edges.extend([upright, downright])\n",
      "        \n",
      "    return np.vstack(edges)"
     ],
     "language": "python",
     "metadata": {},
     "outputs": [],
     "prompt_number": 24
    },
    {
     "cell_type": "code",
     "collapsed": false,
     "input": [
      "def build_factor_graph_model(labels, feats, factor_types, edge_table, infer_alg = GRAPH_CUT):\n",
      "    \"\"\" Build factor graph model\n",
      "\n",
      "        Args:\n",
      "            labels: matrix of labels [num_train_samples*len_label]\n",
      "            feats: maxtrix of feats [num_train_samples*len_feat]\n",
      "            factory_types: vectors of all factor types\n",
      "            edge_table: matrix of pairwised edges, each row is a pair of node indeces\n",
      "            infer_alg: inference algorithm (GRAPH_CUT)\n",
      "\n",
      "        Returns:\n",
      "            labels_fg: matrix of labels in factor graph format\n",
      "            feats_fg: matrix of features in factor graph format\n",
      "    \"\"\"\n",
      "\n",
      "    labels = labels.astype(np.int32)\n",
      "    num_train_samples = labels.shape[0]\n",
      "    num_vars = labels.shape[1]\n",
      "    num_edges = edge_table.shape[0]\n",
      "    n_stats = 2 # for binary labels\n",
      "\n",
      "    feats_fg = FactorGraphFeatures(num_train_samples)\n",
      "    labels_fg = FactorGraphLabels(num_train_samples)\n",
      "\n",
      "    for i in range(num_train_samples):\n",
      "        cardinaities = np.array([n_stats]*num_vars, np.int32)\n",
      "        fg = FactorGraph(cardinaities)\n",
      "\n",
      "        # add unary factors\n",
      "        for u in range(num_vars):\n",
      "            data_u = np.array(feats[i,:], np.float64)\n",
      "            inds_u = np.array([u], np.int32)\n",
      "            factor_u = Factor(factor_types[u], inds_u, data_u)\n",
      "            fg.add_factor(factor_u)\n",
      "\n",
      "        # add pairwise factors\n",
      "        for v in range(num_edges):\n",
      "            data_p = np.array([1.0])\n",
      "            inds_p = np.array(edge_table[v, :], np.int32)\n",
      "            factor_p = Factor(factor_types[v + num_vars], inds_p, data_p)\n",
      "            fg.add_factor(factor_p)\n",
      "\n",
      "        # add factor graph\n",
      "        feats_fg.add_sample(fg)\n",
      "\n",
      "        # add corresponding label\n",
      "        loss_weights = np.array([1.0/num_vars]*num_vars)\n",
      "        fg_obs = FactorGraphObservation(labels[i,:], loss_weights)\n",
      "        labels_fg.add_label(fg_obs)\n",
      "\n",
      "    return (labels_fg, feats_fg)"
     ],
     "language": "python",
     "metadata": {},
     "outputs": [],
     "prompt_number": 25
    },
    {
     "cell_type": "code",
     "collapsed": false,
     "input": [
      "def load_denoising_data(fname):\n",
      "    \"\"\" Load binary denosing data.\n",
      "    \"\"\"\n",
      "    import scipy.io\n",
      "    mat = scipy.io.loadmat(fname)\n",
      "    X_Cell = mat['X'][0]\n",
      "    Y_Cell = mat['Y'][0]\n",
      "    # convert cell array\n",
      "    X = np.zeros(shape=(X_Cell.shape[0], X_Cell[0].shape[0], X_Cell[0].shape[1]))\n",
      "    Y = X.astype('int32')\n",
      "    for i in range(X_Cell.shape[0]):\n",
      "        X[i] = X_Cell[i]\n",
      "        Y[i] = Y_Cell[i]\n",
      "\n",
      "    return X, Y"
     ],
     "language": "python",
     "metadata": {},
     "outputs": [],
     "prompt_number": 26
    },
    {
     "cell_type": "code",
     "collapsed": false,
     "input": [
      "def evaluation(labels_pr, labels_gt, model):\n",
      "    \"\"\" Evaluation\n",
      "\n",
      "        Args:\n",
      "            labels_pr: predicted label\n",
      "            labels_gt: ground truth label\n",
      "            model: factor graph model\n",
      "\n",
      "        Returns:\n",
      "            ave_loss: average loss\n",
      "    \"\"\"\n",
      "\n",
      "    num_train_samples = labels_pr.get_num_labels()\n",
      "    acc_loss = 0.0\n",
      "    ave_loss = 0.0\n",
      "    for i in range(num_train_samples):\n",
      "        y_pred = labels_pr.get_label(i)\n",
      "        y_truth = labels_gt.get_label(i)\n",
      "        acc_loss = acc_loss + model.delta_loss(y_truth, y_pred)\n",
      "\n",
      "    ave_loss = acc_loss / num_train_samples\n",
      "\n",
      "    return ave_loss"
     ],
     "language": "python",
     "metadata": {},
     "outputs": [],
     "prompt_number": 27
    },
    {
     "cell_type": "code",
     "collapsed": false,
     "input": [
      "def define_factor_types(num_vars, len_feat, edge_table):\n",
      "    \"\"\" Define factor types\n",
      "\n",
      "        Args:\n",
      "            num_vars: number of variables in factor graph\n",
      "            len_feat: length of the feature vector\n",
      "            edge_table: edge table defines pair-wise node indeces\n",
      "\n",
      "        Returns:\n",
      "            v_factor_types: list of all unary and pair-wise factor types\n",
      "    \"\"\"\n",
      "\n",
      "    n_stats = 2 # for binary status\n",
      "    v_factor_types = {}\n",
      "    n_edges = edge_table.shape[0]\n",
      "\n",
      "    # unary factors\n",
      "    cards_u = np.array([n_stats], np.int32)\n",
      "    w_u = np.zeros(n_stats*len_feat)\n",
      "    for i in range(num_vars):\n",
      "        v_factor_types[i] = TableFactorType(i, cards_u, w_u)\n",
      "\n",
      "    # pair-wise factors\n",
      "    cards_pw = np.array([n_stats, n_stats], np.int32)\n",
      "    w_pw = np.zeros(n_stats*n_stats)\n",
      "    for j in range(n_edges):\n",
      "        v_factor_types[j + num_vars] = TableFactorType(j + num_vars, cards_pw, w_pw)\n",
      "\n",
      "    return v_factor_types"
     ],
     "language": "python",
     "metadata": {},
     "outputs": [],
     "prompt_number": 28
    },
    {
     "cell_type": "heading",
     "level": 2,
     "metadata": {},
     "source": [
      "Build Factor Graph Model"
     ]
    },
    {
     "cell_type": "markdown",
     "metadata": {},
     "source": [
      "First, we load the binary denosing data. The dataset is generated by Justin's CRF toolbox [2]. We create 10x10 binary images for speed consideration."
     ]
    },
    {
     "cell_type": "code",
     "collapsed": false,
     "input": [
      "# load synthetic data\n",
      "X, Y = load_denoising_data('data_denoising_10x10.mat')\n",
      "X = X[:2,:,:]\n",
      "Y = Y[:2,:,:]\n",
      "\n",
      "feats_train = X.reshape(X.shape[0], X.shape[1]*X.shape[2])\n",
      "labels_train = Y.reshape(Y.shape[0], Y.shape[1]*Y.shape[2])\n",
      "len_label = labels_train.shape[1]\n",
      "len_feat = feats_train.shape[1]"
     ],
     "language": "python",
     "metadata": {},
     "outputs": [],
     "prompt_number": 29
    },
    {
     "cell_type": "markdown",
     "metadata": {},
     "source": [
      "Generate the grid graph (A simple pairwise grid). The grid graph defines the pairwise nodes. "
     ]
    },
    {
     "cell_type": "code",
     "collapsed": false,
     "input": [
      "# compute the grid edge_list\n",
      "edge_list = make_grid_edges(Y.shape[1], Y.shape[2])"
     ],
     "language": "python",
     "metadata": {},
     "outputs": [],
     "prompt_number": 30
    },
    {
     "cell_type": "markdown",
     "metadata": {},
     "source": [
      "Build factor graph model"
     ]
    },
    {
     "cell_type": "code",
     "collapsed": false,
     "input": [
      "# define factor types\n",
      "factor_types = define_factor_types(len_label, len_feat, edge_list)\n",
      "\n",
      "# create features and labels for factor graph mode\n",
      "(labels_fg, feats_fg) = build_factor_graph_model(labels_train, feats_train, factor_types, edge_list, GRAPH_CUT)\n",
      "\n",
      "# create model and register factor types\n",
      "model = FactorGraphModel(feats_fg, labels_fg, GRAPH_CUT)\n",
      "\n",
      "for i in range(len(factor_types)):\n",
      "    model.add_factor_type(factor_types[i])"
     ],
     "language": "python",
     "metadata": {},
     "outputs": [],
     "prompt_number": 31
    },
    {
     "cell_type": "heading",
     "level": 2,
     "metadata": {},
     "source": [
      "Train Structured Output SVM"
     ]
    },
    {
     "cell_type": "code",
     "collapsed": false,
     "input": [
      "from modshogun import StochasticSOSVM\n",
      "import time\n",
      "\n",
      "# Training with Stocastic Gradient Descent\n",
      "sgd = StochasticSOSVM(model, labels_fg, True, True)\n",
      "sgd.set_num_iter(150)\n",
      "sgd.set_lambda(0.0001)\n",
      "\n",
      "# train\n",
      "t0 = time.time()\n",
      "sgd.train()\n",
      "t1 = time.time()\n",
      "w_sgd = sgd.get_w()\n",
      "print \"SGD took\", t1 - t0, \"seconds.\""
     ],
     "language": "python",
     "metadata": {},
     "outputs": [
      {
       "output_type": "stream",
       "stream": "stdout",
       "text": [
        "SGD took 7.89926099777 seconds.\n"
       ]
      }
     ],
     "prompt_number": 32
    },
    {
     "cell_type": "code",
     "collapsed": false,
     "input": [
      "# training error\n",
      "labels_pr = sgd.apply()\n",
      "ave_loss = evaluation(labels_pr, labels_fg, model)\n",
      "print('SGD: Average training error is %.4f' % ave_loss)"
     ],
     "language": "python",
     "metadata": {},
     "outputs": [
      {
       "output_type": "stream",
       "stream": "stdout",
       "text": [
        "SGD: Average training error is 0.0000\n"
       ]
      }
     ],
     "prompt_number": 33
    },
    {
     "cell_type": "heading",
     "level": 2,
     "metadata": {},
     "source": [
      "Results"
     ]
    },
    {
     "cell_type": "code",
     "collapsed": false,
     "input": [
      "import matplotlib.pyplot as plt\n",
      "%matplotlib inline\n",
      "\n",
      "# plot one example\n",
      "i = 1\n",
      "x, y = X[i], Y[i]\n",
      "# predicted output\n",
      "y_pred = FactorGraphObservation.obtain_from_generic(labels_pr.get_label(i))\n",
      "y_pred = y_pred.get_data().reshape(x.shape[:2])\n",
      "\n",
      "# inference\n",
      "fg_i = feats_fg.get_sample(i)\n",
      "fg_i.compute_energies()\n",
      "fg_i.connect_components()\n",
      "# perform MAP inference\n",
      "infer_met = MAPInference(fg_i, GRAPH_CUT)\n",
      "infer_met.inference()\n",
      "y_infer = infer_met.get_structured_outputs()\n",
      "y_infer = y_infer.get_data().reshape(x.shape[:2])\n",
      "\n",
      "fig, plots = plt.subplots(1, 4, figsize=(12, 4))\n",
      "plots[0].matshow(y)\n",
      "plots[0].set_title(\"ground truth\")\n",
      "plots[1].matshow(x)\n",
      "plots[1].set_title(\"noisy input\")\n",
      "plots[2].matshow(y_pred)\n",
      "plots[2].set_title(\"prediction\")\n",
      "plots[3].matshow(y_infer)\n",
      "plots[3].set_title(\"inference\")\n",
      "\n",
      "for p in plots:\n",
      "    p.set_xticks(())\n",
      "    p.set_yticks(())\n",
      "    \n",
      "plt.show()"
     ],
     "language": "python",
     "metadata": {},
     "outputs": [
      {
       "metadata": {},
       "output_type": "display_data",
       "png": "[encoded data removed]",
       "text": [
        "<matplotlib.figure.Figure at 0x7f8250974710>"
       ]
      }
     ],
     "prompt_number": 34
    },
    {
     "cell_type": "heading",
     "level": 2,
     "metadata": {},
     "source": [
      "Reference"
     ]
    },
    {
     "cell_type": "markdown",
     "metadata": {},
     "source": [
      "[1] Tsochantaridis, I., Hofmann, T., Joachims, T., Altun, Y., Support Vector Machine Learning for Interdependent and Structured Ouput Spaces, ICML 2004."
     ]
    },
    {
     "cell_type": "markdown",
     "metadata": {},
     "source": [
      "[2] http://users.cecs.anu.edu.au/~jdomke/JGMT/"
     ]
    },
    {
     "cell_type": "code",
     "collapsed": false,
     "input": [],
     "language": "python",
     "metadata": {},
     "outputs": [],
     "prompt_number": 34
    }
   ],
   "metadata": {}
  }
 ]
}