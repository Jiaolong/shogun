{
 "metadata": {
  "name": ""
 },
 "nbformat": 3,
 "nbformat_minor": 0,
 "worksheets": [
  {
   "cells": [
    {
     "cell_type": "heading",
     "level": 1,
     "metadata": {},
     "source": [
      "Structured Prediction with Graph cuts as Approximate Inference"
     ]
    },
    {
     "cell_type": "heading",
     "level": 4,
     "metadata": {},
     "source": [
      "Jiaolong Xu (GitHub ID: [Jiaolong](https://github.com/Jiaolong/))"
     ]
    },
    {
     "cell_type": "heading",
     "level": 2,
     "metadata": {},
     "source": [
      "Introduction"
     ]
    },
    {
     "cell_type": "heading",
     "level": 2,
     "metadata": {},
     "source": [
      "Graph cuts"
     ]
    },
    {
     "cell_type": "heading",
     "level": 2,
     "metadata": {},
     "source": [
      "Experiment 1: Max-flow / Min-cut algorithm for general s-t graph optimization"
     ]
    },
    {
     "cell_type": "code",
     "collapsed": false,
     "input": [
      "# visulize the s-t graph\n",
      "%matplotlib inline\n",
      "try:\n",
      "    import networkx as nx # pip install networkx\n",
      "except ImportError:\n",
      "    import pip\n",
      "    pip.main(['install', '--user', 'networkx'])\n",
      "    import networkx as nx\n",
      "\n",
      "import matplotlib.pyplot as plt\n",
      "\n",
      "# create a graph\n",
      "G = nx.Graph()\n",
      "nodes = {}\n",
      "\n",
      "# add variable nodes, assuming there are 3 letters\n",
      "G.add_nodes_from(['v0','v1','v2', 'v3', 'v4'])\n",
      "\n",
      "nodes['Fs'] = (-2,0)\n",
      "nodes['Ft'] = (2,0)\n",
      "\n",
      "nodes['v0'] = (-1,2)\n",
      "nodes['v1'] = (0,0)\n",
      "nodes['v2'] = (-1,-2)\n",
      "nodes['v3'] = (1,2)\n",
      "nodes['v4'] = (1,-2)\n",
      "\n",
      "G.add_edges_from([('v0','Fs'), ('v1','Fs'), ('v2', 'Fs')])\n",
      "G.add_edges_from([('v1', 'Ft'), ('v3','Ft'),('v4','Ft')])\n",
      "G.add_edges_from([('v0', 'v1'), ('v0','v3')])\n",
      "G.add_edges_from([('v1', 'v2'), ('v1','v4')])\n",
      "G.add_edges_from([('v2', 'v3'), ('v2','v4')])\n",
      "\n",
      "# draw graph\n",
      "fig, ax = plt.subplots(figsize=(6,2))\n",
      "nx.draw_networkx_nodes(G,nodes,nodelist=['v0','v1','v2','v3','v4'],node_color='blue',node_size=700,ax=ax)\n",
      "nx.draw_networkx_nodes(G,nodes,nodelist=['Fs'],node_color='green',node_shape='s',node_size=300,ax=ax)\n",
      "nx.draw_networkx_nodes(G,nodes,nodelist=['Ft'],node_color='purple',node_shape='s',node_size=300,ax=ax)\n",
      "nx.draw_networkx_edges(G,nodes,alpha=0.7)\n",
      "plt.axis('off')\n",
      "plt.tight_layout()"
     ],
     "language": "python",
     "metadata": {},
     "outputs": [
      {
       "metadata": {},
       "output_type": "display_data",
       "png": "[encoded data removed]",
       "text": [
        "<matplotlib.figure.Figure at 0x7f113ab830d0>"
       ]
      }
     ],
     "prompt_number": 20
    },
    {
     "cell_type": "code",
     "collapsed": false,
     "input": [
      "from modshogun import GraphCut\n",
      "\n",
      "num_nodes = 5\n",
      "num_edges = 6\n",
      "\n",
      "g = GraphCut(5, 6)\n",
      "\n",
      "# add termainal-connected edges\n",
      "# i.e., SOURCE->node_i and node_i->SINK\n",
      "g.add_tweights(0, 4, 0)\n",
      "g.add_tweights(1, 2, 0)\n",
      "g.add_tweights(2, 8, 0)\n",
      "g.add_tweights(2, 0, 4)\n",
      "g.add_tweights(3, 0, 7)\n",
      "g.add_tweights(4, 0, 5)\n",
      "\n",
      "# add node to node edges\n",
      "g.add_edge(0, 2, 5, 0)\n",
      "g.add_edge(0, 3, 2, 0)\n",
      "g.add_edge(1, 2, 6, 0)\n",
      "g.add_edge(1, 4, 9, 0)\n",
      "g.add_edge(2, 3, 1, 0)\n",
      "g.add_edge(2, 4, 3, 0)\n",
      "\n",
      "# initialize max-flow algorithm\n",
      "g.init_maxflow()\n",
      "\n",
      "# compute max flow\n",
      "flow = g.compute_maxflow()\n",
      "\n",
      "print(\"Flow = %f\" % flow)\n",
      "\n",
      "# print assignment\n",
      "for i in xrange(num_nodes):\n",
      "    print(\"\\nNode %d = %d\" % (i, g.get_assignment(i)))"
     ],
     "language": "python",
     "metadata": {},
     "outputs": [
      {
       "output_type": "stream",
       "stream": "stdout",
       "text": [
        "Flow = 12.000000\n",
        "\n",
        "Node 0 = 0\n",
        "\n",
        "Node 1 = 0\n",
        "\n",
        "Node 2 = 0\n",
        "\n",
        "Node 3 = 1\n",
        "\n",
        "Node 4 = 0\n"
       ]
      }
     ],
     "prompt_number": 9
    },
    {
     "cell_type": "code",
     "collapsed": false,
     "input": [],
     "language": "python",
     "metadata": {},
     "outputs": [
      {
       "output_type": "stream",
       "stream": "stdout",
       "text": [
        "1\n"
       ]
      }
     ],
     "prompt_number": 7
    },
    {
     "cell_type": "heading",
     "level": 2,
     "metadata": {},
     "source": [
      "Experiment 2: Multilabel classification with Synthetic Dataset"
     ]
    },
    {
     "cell_type": "heading",
     "level": 2,
     "metadata": {},
     "source": [
      "Experiment 3: Multilabel classification with Real-world Dataset"
     ]
    },
    {
     "cell_type": "heading",
     "level": 2,
     "metadata": {},
     "source": [
      "References"
     ]
    }
   ],
   "metadata": {}
  }
 ]
}